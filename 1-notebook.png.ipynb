{
 "cells": [
  {
   "cell_type": "code",
   "execution_count": 3,
   "id": "ed82c1aa-7628-4639-93d1-84354c867cc9",
   "metadata": {},
   "outputs": [
    {
     "name": "stdout",
     "output_type": "stream",
     "text": [
      "Hello world\n"
     ]
    }
   ],
   "source": [
    "print(\"Hello world\")"
   ]
  },
  {
   "cell_type": "markdown",
   "id": "afbc29bc-4502-4abc-9e7b-4f594692f7ce",
   "metadata": {},
   "source": [
    "# Data Science Tools and Ecosystem"
   ]
  },
  {
   "cell_type": "markdown",
   "id": "56776301-4f24-4878-9c5f-5206ff5a6e83",
   "metadata": {},
   "source": [
    "In this notebook, Data Science Tools and Ecosystem are summarized"
   ]
  },
  {
   "cell_type": "markdown",
   "id": "33da3e0f-0ba9-47c4-bd2c-ca277ef798a2",
   "metadata": {},
   "source": [
    "Some of the popular languages that Data Scientists use are:"
   ]
  },
  {
   "cell_type": "markdown",
   "id": "4116cd3c-8981-4f3b-9545-7933887d6a52",
   "metadata": {},
   "source": [
    "1. Python\n",
    "2. R\n",
    "3. SQL\n",
    "4. Julia\n",
    "5. Scala\n",
    "6. Java\n",
    "7. Java Script"
   ]
  },
  {
   "cell_type": "markdown",
   "id": "744944bc-33b5-4406-a49a-f591b2acddbe",
   "metadata": {},
   "source": [
    "Some of the commonly used libraries used by Data Scientists include:"
   ]
  },
  {
   "cell_type": "markdown",
   "id": "52b6d32e-1154-4e87-821a-1c23df528815",
   "metadata": {},
   "source": [
    "1. NumPy\n",
    "2. Pandas\n",
    "3. Matplotlib\n",
    "4. Tensorflow\n",
    "5. Plotly"
   ]
  },
  {
   "cell_type": "markdown",
   "id": "e09ce4a7-68a8-4c7b-9afa-eb9cbc295503",
   "metadata": {},
   "source": [
    "|Data Science Tools|\n",
    "|------------------|\n",
    "|Jupyter Notebook|\n",
    "|VS Code|\n",
    "|RStudio|"
   ]
  },
  {
   "cell_type": "markdown",
   "id": "7b18dc05-08b6-44f3-aa9b-81c1d7dd7d4f",
   "metadata": {},
   "source": [
    "### Below are a few examples of evaluating arithmetic expressions in Python"
   ]
  },
  {
   "cell_type": "markdown",
   "id": "d70b3415-5c5e-4e5d-b3c3-b1d11b73ced1",
   "metadata": {},
   "source": [
    " This a simple arithmetic expression to mutiply then add integers"
   ]
  },
  {
   "cell_type": "code",
   "execution_count": 14,
   "id": "f1c5bdb7-0721-493b-a9ae-aed665ffab3a",
   "metadata": {},
   "outputs": [
    {
     "data": {
      "text/plain": [
       "17"
      ]
     },
     "execution_count": 14,
     "metadata": {},
     "output_type": "execute_result"
    }
   ],
   "source": [
    "(3*4)+5"
   ]
  },
  {
   "cell_type": "code",
   "execution_count": 20,
   "id": "0e03dc5c-7f9b-402d-9028-76af0c78a495",
   "metadata": {},
   "outputs": [],
   "source": [
    "# convert minutes to hours"
   ]
  },
  {
   "cell_type": "code",
   "execution_count": 23,
   "id": "18eabc2a-00fb-4487-ac1e-678cf3558442",
   "metadata": {},
   "outputs": [
    {
     "data": {
      "text/plain": [
       "3.3333333333333335"
      ]
     },
     "execution_count": 23,
     "metadata": {},
     "output_type": "execute_result"
    }
   ],
   "source": [
    "200/60"
   ]
  },
  {
   "cell_type": "markdown",
   "id": "7da0d413-b891-4337-9805-a4b800ce97d9",
   "metadata": {},
   "source": [
    "**Objectives:**"
   ]
  },
  {
   "cell_type": "markdown",
   "id": "6ac7f156-6b96-482e-9aa5-9575282cdfb5",
   "metadata": {},
   "source": [
    "+ Python Programming\n",
    "+ R\n",
    "+ SQL\n",
    "+ JAVA\n",
    "+ JAVA SCRIPT\n",
    "+ JULIA\n",
    "+ SCALA"
   ]
  },
  {
   "cell_type": "markdown",
   "id": "1d2decf9-9afd-4ec9-8272-78a7868d878c",
   "metadata": {},
   "source": [
    "## Author"
   ]
  },
  {
   "cell_type": "markdown",
   "id": "fba6624c-af57-4df3-84cf-292b63e50a05",
   "metadata": {},
   "source": [
    "Brevin Stephen Owino"
   ]
  },
  {
   "cell_type": "code",
   "execution_count": null,
   "id": "cc4ec6c7-62d0-4689-b4dd-4428f9953250",
   "metadata": {},
   "outputs": [],
   "source": []
  }
 ],
 "metadata": {
  "kernelspec": {
   "display_name": "Python 3 (ipykernel)",
   "language": "python",
   "name": "python3"
  },
  "language_info": {
   "codemirror_mode": {
    "name": "ipython",
    "version": 3
   },
   "file_extension": ".py",
   "mimetype": "text/x-python",
   "name": "python",
   "nbconvert_exporter": "python",
   "pygments_lexer": "ipython3",
   "version": "3.13.5"
  }
 },
 "nbformat": 4,
 "nbformat_minor": 5
}
